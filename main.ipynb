{
 "cells": [
  {
   "cell_type": "code",
   "execution_count": 2,
   "metadata": {},
   "outputs": [],
   "source": [
    "import praw\n",
    "from dotenv import dotenv_values\n",
    "\n",
    "config = dotenv_values(\".env\")\n",
    "\n",
    "reddit = praw.Reddit(\n",
    "    client_id=config[\"CLIENT_ID\"],\n",
    "    client_secret=config[\"CLIENT_SECRET\"],\n",
    "    user_agent=config[\"USER_AGENT\"],\n",
    ")"
   ]
  },
  {
   "cell_type": "code",
   "execution_count": 3,
   "metadata": {},
   "outputs": [],
   "source": [
    "import re\n",
    "\n",
    "from nrclex import NRCLex\n",
    "\n",
    "def clean_text(text: str) -> str:\n",
    "    text = text.lower()\n",
    "    text = re.sub(r\"http\\S+|www\\S+|https\\S+\", \"\", text)\n",
    "    text = re.sub(r\"[^\\w\\s]\", \"\", text)\n",
    "    text = re.sub(r\"\\d+\", \"\", text)\n",
    "    text = re.sub(r\"\\s+\", \" \", text).strip()\n",
    "    return text\n",
    "\n",
    "def analyze_emotion(text: str) -> str:\n",
    "    lexicon = NRCLex(clean_text(text))\n",
    "    emotions = lexicon.affect_frequencies\n",
    "    dominant_emotion = max(emotions, key=emotions.get)\n",
    "    return dominant_emotion"
   ]
  },
  {
   "cell_type": "code",
   "execution_count": 4,
   "metadata": {},
   "outputs": [],
   "source": [
    "from datetime import datetime\n",
    "\n",
    "subreddit = reddit.subreddit(\"worldnews\")\n",
    "submissions = []\n",
    "\n",
    "for post in subreddit.top(time_filter=\"month\", limit=None):\n",
    "    submissions.append([\n",
    "        post.title,\n",
    "        post.num_comments,\n",
    "        datetime.utcfromtimestamp(post.created_utc),\n",
    "        post.author,\n",
    "        post.score,\n",
    "        post.upvote_ratio,\n",
    "        post.num_crossposts,\n",
    "        analyze_emotion(post.title),\n",
    "    ])"
   ]
  },
  {
   "cell_type": "code",
   "execution_count": 5,
   "metadata": {},
   "outputs": [],
   "source": [
    "from nltk.sentiment.vader import SentimentIntensityAnalyzer\n",
    "\n",
    "analyzer = SentimentIntensityAnalyzer()\n",
    "\n",
    "for post in submissions:\n",
    "    score = analyzer.polarity_scores(clean_text(post[0]))\n",
    "    post.append(score[\"compound\"])"
   ]
  },
  {
   "cell_type": "code",
   "execution_count": 17,
   "metadata": {},
   "outputs": [],
   "source": [
    "import pandas as pd\n",
    "\n",
    "df = pd.DataFrame(\n",
    "    submissions,\n",
    "    columns=[\"title\", \"comments\", \"created\", \"author\", \"upvotes\", \"upvote_ratio\", \"crossposts\", \"emotion\", \"compound\"],\n",
    ")\n",
    "\n",
    "df[\"sentiment\"] = 0\n",
    "df.loc[df[\"compound\"] > 0.20, \"sentiment\"] = 1\n",
    "df.loc[df[\"compound\"] < -0.20, \"sentiment\"] = -1"
   ]
  },
  {
   "cell_type": "code",
   "execution_count": 21,
   "metadata": {},
   "outputs": [
    {
     "data": {
      "text/html": [
       "<div>\n",
       "<style scoped>\n",
       "    .dataframe tbody tr th:only-of-type {\n",
       "        vertical-align: middle;\n",
       "    }\n",
       "\n",
       "    .dataframe tbody tr th {\n",
       "        vertical-align: top;\n",
       "    }\n",
       "\n",
       "    .dataframe thead th {\n",
       "        text-align: right;\n",
       "    }\n",
       "</style>\n",
       "<table border=\"1\" class=\"dataframe\">\n",
       "  <thead>\n",
       "    <tr style=\"text-align: right;\">\n",
       "      <th></th>\n",
       "      <th>title</th>\n",
       "      <th>comments</th>\n",
       "      <th>created</th>\n",
       "      <th>author</th>\n",
       "      <th>upvotes</th>\n",
       "      <th>upvote_ratio</th>\n",
       "      <th>crossposts</th>\n",
       "      <th>emotion</th>\n",
       "      <th>sentiment</th>\n",
       "    </tr>\n",
       "  </thead>\n",
       "  <tbody>\n",
       "    <tr>\n",
       "      <th>0</th>\n",
       "      <td>Senior US lawmaker confirms Egypt warned Israe...</td>\n",
       "      <td>3794</td>\n",
       "      <td>2023-10-11 15:55:19</td>\n",
       "      <td>AmatuerNetworkist</td>\n",
       "      <td>34783</td>\n",
       "      <td>0.93</td>\n",
       "      <td>10</td>\n",
       "      <td>fear</td>\n",
       "      <td>-1</td>\n",
       "    </tr>\n",
       "    <tr>\n",
       "      <th>1</th>\n",
       "      <td>Israel resumes water supply to southern Gaza a...</td>\n",
       "      <td>5270</td>\n",
       "      <td>2023-10-15 15:33:34</td>\n",
       "      <td>HappyBavarian</td>\n",
       "      <td>33068</td>\n",
       "      <td>0.91</td>\n",
       "      <td>4</td>\n",
       "      <td>positive</td>\n",
       "      <td>-1</td>\n",
       "    </tr>\n",
       "    <tr>\n",
       "      <th>2</th>\n",
       "      <td>Residents near Gaza border beg for help: 'They...</td>\n",
       "      <td>9314</td>\n",
       "      <td>2023-10-07 08:37:07</td>\n",
       "      <td>Mazcal</td>\n",
       "      <td>30542</td>\n",
       "      <td>0.87</td>\n",
       "      <td>9</td>\n",
       "      <td>negative</td>\n",
       "      <td>0</td>\n",
       "    </tr>\n",
       "    <tr>\n",
       "      <th>3</th>\n",
       "      <td>Israel says no humanitarian break to Gaza sieg...</td>\n",
       "      <td>13604</td>\n",
       "      <td>2023-10-12 09:06:02</td>\n",
       "      <td>project_95</td>\n",
       "      <td>29988</td>\n",
       "      <td>0.89</td>\n",
       "      <td>7</td>\n",
       "      <td>surprise</td>\n",
       "      <td>0</td>\n",
       "    </tr>\n",
       "    <tr>\n",
       "      <th>4</th>\n",
       "      <td>Hamas official promises: 'We'll repeat Oct. 7 ...</td>\n",
       "      <td>7415</td>\n",
       "      <td>2023-11-01 12:57:50</td>\n",
       "      <td>BinaryPhinary2</td>\n",
       "      <td>28314</td>\n",
       "      <td>0.78</td>\n",
       "      <td>13</td>\n",
       "      <td>fear</td>\n",
       "      <td>1</td>\n",
       "    </tr>\n",
       "    <tr>\n",
       "      <th>...</th>\n",
       "      <td>...</td>\n",
       "      <td>...</td>\n",
       "      <td>...</td>\n",
       "      <td>...</td>\n",
       "      <td>...</td>\n",
       "      <td>...</td>\n",
       "      <td>...</td>\n",
       "      <td>...</td>\n",
       "      <td>...</td>\n",
       "    </tr>\n",
       "    <tr>\n",
       "      <th>995</th>\n",
       "      <td>Russian foreign minister thanks North Korea fo...</td>\n",
       "      <td>31</td>\n",
       "      <td>2023-10-19 02:13:12</td>\n",
       "      <td>Takagixu</td>\n",
       "      <td>446</td>\n",
       "      <td>0.91</td>\n",
       "      <td>1</td>\n",
       "      <td>negative</td>\n",
       "      <td>1</td>\n",
       "    </tr>\n",
       "    <tr>\n",
       "      <th>996</th>\n",
       "      <td>Likud Minister Formulates Emergency Regulation...</td>\n",
       "      <td>102</td>\n",
       "      <td>2023-10-15 19:26:37</td>\n",
       "      <td>AlyoshaV</td>\n",
       "      <td>446</td>\n",
       "      <td>0.88</td>\n",
       "      <td>1</td>\n",
       "      <td>negative</td>\n",
       "      <td>-1</td>\n",
       "    </tr>\n",
       "    <tr>\n",
       "      <th>997</th>\n",
       "      <td>Drought in Brazil's Amazon sparks fears for th...</td>\n",
       "      <td>14</td>\n",
       "      <td>2023-10-09 19:05:04</td>\n",
       "      <td>giuliomagnifico</td>\n",
       "      <td>445</td>\n",
       "      <td>0.93</td>\n",
       "      <td>0</td>\n",
       "      <td>trust</td>\n",
       "      <td>-1</td>\n",
       "    </tr>\n",
       "    <tr>\n",
       "      <th>998</th>\n",
       "      <td>Ghana plunged into darkness as country faces e...</td>\n",
       "      <td>49</td>\n",
       "      <td>2023-10-30 06:45:59</td>\n",
       "      <td>Relevant_Ninja2251</td>\n",
       "      <td>437</td>\n",
       "      <td>0.96</td>\n",
       "      <td>1</td>\n",
       "      <td>fear</td>\n",
       "      <td>-1</td>\n",
       "    </tr>\n",
       "    <tr>\n",
       "      <th>999</th>\n",
       "      <td>Belgium expects to use $2.4 bln in tax on froz...</td>\n",
       "      <td>7</td>\n",
       "      <td>2023-10-11 15:33:31</td>\n",
       "      <td>giuliomagnifico</td>\n",
       "      <td>442</td>\n",
       "      <td>0.96</td>\n",
       "      <td>0</td>\n",
       "      <td>positive</td>\n",
       "      <td>0</td>\n",
       "    </tr>\n",
       "  </tbody>\n",
       "</table>\n",
       "<p>1000 rows × 9 columns</p>\n",
       "</div>"
      ],
      "text/plain": [
       "                                                 title  comments  \\\n",
       "0    Senior US lawmaker confirms Egypt warned Israe...      3794   \n",
       "1    Israel resumes water supply to southern Gaza a...      5270   \n",
       "2    Residents near Gaza border beg for help: 'They...      9314   \n",
       "3    Israel says no humanitarian break to Gaza sieg...     13604   \n",
       "4    Hamas official promises: 'We'll repeat Oct. 7 ...      7415   \n",
       "..                                                 ...       ...   \n",
       "995  Russian foreign minister thanks North Korea fo...        31   \n",
       "996  Likud Minister Formulates Emergency Regulation...       102   \n",
       "997  Drought in Brazil's Amazon sparks fears for th...        14   \n",
       "998  Ghana plunged into darkness as country faces e...        49   \n",
       "999  Belgium expects to use $2.4 bln in tax on froz...         7   \n",
       "\n",
       "                created              author  upvotes  upvote_ratio  \\\n",
       "0   2023-10-11 15:55:19   AmatuerNetworkist    34783          0.93   \n",
       "1   2023-10-15 15:33:34       HappyBavarian    33068          0.91   \n",
       "2   2023-10-07 08:37:07              Mazcal    30542          0.87   \n",
       "3   2023-10-12 09:06:02          project_95    29988          0.89   \n",
       "4   2023-11-01 12:57:50      BinaryPhinary2    28314          0.78   \n",
       "..                  ...                 ...      ...           ...   \n",
       "995 2023-10-19 02:13:12            Takagixu      446          0.91   \n",
       "996 2023-10-15 19:26:37            AlyoshaV      446          0.88   \n",
       "997 2023-10-09 19:05:04     giuliomagnifico      445          0.93   \n",
       "998 2023-10-30 06:45:59  Relevant_Ninja2251      437          0.96   \n",
       "999 2023-10-11 15:33:31     giuliomagnifico      442          0.96   \n",
       "\n",
       "     crossposts   emotion  sentiment  \n",
       "0            10      fear         -1  \n",
       "1             4  positive         -1  \n",
       "2             9  negative          0  \n",
       "3             7  surprise          0  \n",
       "4            13      fear          1  \n",
       "..          ...       ...        ...  \n",
       "995           1  negative          1  \n",
       "996           1  negative         -1  \n",
       "997           0     trust         -1  \n",
       "998           1      fear         -1  \n",
       "999           0  positive          0  \n",
       "\n",
       "[1000 rows x 9 columns]"
      ]
     },
     "execution_count": 21,
     "metadata": {},
     "output_type": "execute_result"
    }
   ],
   "source": [
    "df.drop(\"compound\", axis=1, inplace=True)\n",
    "df"
   ]
  },
  {
   "cell_type": "code",
   "execution_count": 31,
   "metadata": {},
   "outputs": [
    {
     "data": {
      "text/plain": [
       "<Axes: title={'center': 'Distribution of emotions on r/GeoPolitics'}, xlabel='Emotion', ylabel='Count'>"
      ]
     },
     "execution_count": 31,
     "metadata": {},
     "output_type": "execute_result"
    },
    {
     "data": {
      "image/png": "[encoded data removed]",
      "text/plain": [
       "<Figure size 640x480 with 1 Axes>"
      ]
     },
     "metadata": {},
     "output_type": "display_data"
    }
   ],
   "source": [
    "emotion_count = df.emotion.value_counts()\n",
    "emotion_count.plot.bar(xlabel=\"Emotion\", ylabel=\"Count\", title=\"Distribution of emotions on r/GeoPolitics\")"
   ]
  },
  {
   "cell_type": "code",
   "execution_count": 30,
   "metadata": {},
   "outputs": [
    {
     "data": {
      "text/plain": [
       "<Axes: title={'center': 'Distribution of sentiments on r/GeoPolitics'}, xlabel='Sentiment', ylabel='Count'>"
      ]
     },
     "execution_count": 30,
     "metadata": {},
     "output_type": "execute_result"
    },
    {
     "data": {
      "image/png": "[encoded data removed]",
      "text/plain": [
       "<Figure size 640x480 with 1 Axes>"
      ]
     },
     "metadata": {},
     "output_type": "display_data"
    }
   ],
   "source": [
    "sentiment_count = df.sentiment.value_counts()\n",
    "sentiment_count.index = [\"Negative\", \"Neutral\", \"Positive\"]\n",
    "sentiment_count.plot.bar(xlabel=\"Sentiment\", ylabel=\"Count\", title=\"Distribution of sentiments on r/GeoPolitics\")"
   ]
  }
 ],
 "metadata": {
  "kernelspec": {
   "display_name": "venv",
   "language": "python",
   "name": "python3"
  },
  "language_info": {
   "codemirror_mode": {
    "name": "ipython",
    "version": 3
   },
   "file_extension": ".py",
   "mimetype": "text/x-python",
   "name": "python",
   "nbconvert_exporter": "python",
   "pygments_lexer": "ipython3",
   "version": "3.10.0"
  }
 },
 "nbformat": 4,
 "nbformat_minor": 2
}
